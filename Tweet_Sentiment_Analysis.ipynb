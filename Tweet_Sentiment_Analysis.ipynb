{
  "nbformat": 4,
  "nbformat_minor": 0,
  "metadata": {
    "colab": {
      "name": "Tweet Sentiment Analysis.ipynb",
      "provenance": [],
      "collapsed_sections": [],
      "authorship_tag": "ABX9TyNrn/NEbRbDtdTjJPvTczOx",
      "include_colab_link": true
    },
    "kernelspec": {
      "display_name": "Python 3",
      "name": "python3"
    },
    "language_info": {
      "name": "python"
    },
    "accelerator": "GPU"
  },
  "cells": [
    {
      "cell_type": "markdown",
      "metadata": {
        "id": "view-in-github",
        "colab_type": "text"
      },
      "source": [
        "<a href=\"https://colab.research.google.com/github/amitpanthi/Twitter-Sentiment-Analysis/blob/main/Tweet_Sentiment_Analysis.ipynb\" target=\"_parent\"><img src=\"https://colab.research.google.com/assets/colab-badge.svg\" alt=\"Open In Colab\"/></a>"
      ]
    },
    {
      "cell_type": "markdown",
      "metadata": {
        "id": "XhZ7-7OrP1HS"
      },
      "source": [
        "# Sentiment Analysis of Tweets based on GloVe embeddings\n",
        "\n",
        "This notebook demonstrates the application of Recurrent Neural Networks in a classification task.\n",
        "\n",
        "We will be trying to get the sentiment of a given tweet, where the data was taken from a [Kaggle Dataset](https://www.kaggle.com/kazanova/sentiment140). This is a fairly challenging problem, with many applications in real life.\n",
        "\n",
        "This problem can be expanded (with an appropriate dataset) to make spam detectors, bullying detector, and so on. The same model can be fit almost anywhere, where the underlying problem deals with extracting the sentiment out of a statement.\n",
        "\n",
        "We are using a LSTM along with dropouts, after the data has undergone through some pre-processing.\n",
        "\n",
        "Before proceeding, at the top menu of this colab notebook, Select Runtime-->change runtime type--->GPU. The code is GPU friendly, and will run seamlessly on a CPU, as well as cuda."
      ]
    },
    {
      "cell_type": "markdown",
      "metadata": {
        "id": "_EY91xafiHhh"
      },
      "source": [
        "## Loading the dataset"
      ]
    },
    {
      "cell_type": "markdown",
      "metadata": {
        "id": "2sxRToVtUWnj"
      },
      "source": [
        "The dataset used in this problem is [this](https://www.kaggle.com/kazanova/sentiment140), where we have 1.6 million tweets with 6 features: target, ids, date, flag, user and text. According to the dataset, these fields are defined as:<br>\n",
        "<ol>\n",
        "<li>target: the polarity of the tweet (0 = negative, 2 = neutral, 4 = positive)</li>\n",
        "<li>ids: The id of the tweet (2087)</li>\n",
        "<li>date: the date of the tweet (Sat May 16 23:58:44 UTC 2009)</li>\n",
        "<li>flag: The query (lyx). If there is no query, then this value is NO_QUERY.</li>\n",
        "<li>user: the user that tweeted (robotickilldozr)</li>\n",
        "<li>text: the text of the tweet (Lyx is cool)</li>\n",
        "</ol>\n",
        "\n",
        "The dataset is comprised in a single csv - \"training.1600000.processed.noemoticon.csv\".<br>"
      ]
    },
    {
      "cell_type": "code",
      "metadata": {
        "id": "6NM4HOiXiDSy"
      },
      "source": [
        "from google.colab import files\n",
        "\n",
        "files.upload()"
      ],
      "execution_count": null,
      "outputs": []
    },
    {
      "cell_type": "code",
      "metadata": {
        "id": "HLjmsO-QiLWo"
      },
      "source": [
        "! mkdir ~/.kaggle\n",
        "! cp kaggle.json ~/.kaggle/"
      ],
      "execution_count": null,
      "outputs": []
    },
    {
      "cell_type": "code",
      "metadata": {
        "id": "5ThjfIvXiQeI"
      },
      "source": [
        "! chmod 600 ~/.kaggle/kaggle.json"
      ],
      "execution_count": null,
      "outputs": []
    },
    {
      "cell_type": "code",
      "metadata": {
        "colab": {
          "base_uri": "https://localhost:8080/"
        },
        "id": "LNXceBsiiSl0",
        "outputId": "5ed95358-ae31-4ff9-f3f1-1c12d5250902"
      },
      "source": [
        "!kaggle datasets download -d kazanova/sentiment140"
      ],
      "execution_count": null,
      "outputs": [
        {
          "output_type": "stream",
          "text": [
            "Downloading sentiment140.zip to /content\n",
            " 90% 73.0M/80.9M [00:02<00:00, 26.6MB/s]\n",
            "100% 80.9M/80.9M [00:02<00:00, 32.4MB/s]\n"
          ],
          "name": "stdout"
        }
      ]
    },
    {
      "cell_type": "code",
      "metadata": {
        "colab": {
          "base_uri": "https://localhost:8080/"
        },
        "id": "_iGXVoStiVDG",
        "outputId": "44111515-6d82-4401-b0ea-9b7acaf942a2"
      },
      "source": [
        "!mkdir dataset\n",
        "!unzip sentiment140.zip -d dataset/"
      ],
      "execution_count": null,
      "outputs": [
        {
          "output_type": "stream",
          "text": [
            "Archive:  sentiment140.zip\n",
            "  inflating: dataset/training.1600000.processed.noemoticon.csv  \n"
          ],
          "name": "stdout"
        }
      ]
    },
    {
      "cell_type": "markdown",
      "metadata": {
        "id": "46lN5f_dik5H"
      },
      "source": [
        "## Preprocessing"
      ]
    },
    {
      "cell_type": "markdown",
      "metadata": {
        "id": "xlMyn__3Uf5p"
      },
      "source": [
        "Out of the 6 input features, only 2 are relevant for our problem - target and text. We can discard rest of the features. Also, we are using torchtext to build the dataset, and because of how torchtext works, we will need to split our dataset into train.csv and test.csv files.<br>\n",
        "\n",
        "This splitting is done in this section."
      ]
    },
    {
      "cell_type": "code",
      "metadata": {
        "id": "e5uj0Hsbifko"
      },
      "source": [
        "import pandas as pd\n",
        "from sklearn.model_selection import train_test_split"
      ],
      "execution_count": null,
      "outputs": []
    },
    {
      "cell_type": "code",
      "metadata": {
        "id": "ppyuaDnri0-a"
      },
      "source": [
        "fpath = \"dataset/training.1600000.processed.noemoticon.csv\"\n",
        "col_names = [\"target\", \"id\", \"date\", \"flag\", \"user\", \"tweet\"]\n",
        "tweets_df = pd.read_csv(fpath, encoding='latin', names=col_names)"
      ],
      "execution_count": null,
      "outputs": []
    },
    {
      "cell_type": "code",
      "metadata": {
        "colab": {
          "base_uri": "https://localhost:8080/",
          "height": 197
        },
        "id": "ySVx83MFjHBa",
        "outputId": "658a65e9-fc4d-4a99-c242-e7089c177a4c"
      },
      "source": [
        "tweets_df.head()"
      ],
      "execution_count": null,
      "outputs": [
        {
          "output_type": "execute_result",
          "data": {
            "text/html": [
              "<div>\n",
              "<style scoped>\n",
              "    .dataframe tbody tr th:only-of-type {\n",
              "        vertical-align: middle;\n",
              "    }\n",
              "\n",
              "    .dataframe tbody tr th {\n",
              "        vertical-align: top;\n",
              "    }\n",
              "\n",
              "    .dataframe thead th {\n",
              "        text-align: right;\n",
              "    }\n",
              "</style>\n",
              "<table border=\"1\" class=\"dataframe\">\n",
              "  <thead>\n",
              "    <tr style=\"text-align: right;\">\n",
              "      <th></th>\n",
              "      <th>target</th>\n",
              "      <th>id</th>\n",
              "      <th>date</th>\n",
              "      <th>flag</th>\n",
              "      <th>user</th>\n",
              "      <th>tweet</th>\n",
              "    </tr>\n",
              "  </thead>\n",
              "  <tbody>\n",
              "    <tr>\n",
              "      <th>0</th>\n",
              "      <td>0</td>\n",
              "      <td>1467810369</td>\n",
              "      <td>Mon Apr 06 22:19:45 PDT 2009</td>\n",
              "      <td>NO_QUERY</td>\n",
              "      <td>_TheSpecialOne_</td>\n",
              "      <td>@switchfoot http://twitpic.com/2y1zl - Awww, t...</td>\n",
              "    </tr>\n",
              "    <tr>\n",
              "      <th>1</th>\n",
              "      <td>0</td>\n",
              "      <td>1467810672</td>\n",
              "      <td>Mon Apr 06 22:19:49 PDT 2009</td>\n",
              "      <td>NO_QUERY</td>\n",
              "      <td>scotthamilton</td>\n",
              "      <td>is upset that he can't update his Facebook by ...</td>\n",
              "    </tr>\n",
              "    <tr>\n",
              "      <th>2</th>\n",
              "      <td>0</td>\n",
              "      <td>1467810917</td>\n",
              "      <td>Mon Apr 06 22:19:53 PDT 2009</td>\n",
              "      <td>NO_QUERY</td>\n",
              "      <td>mattycus</td>\n",
              "      <td>@Kenichan I dived many times for the ball. Man...</td>\n",
              "    </tr>\n",
              "    <tr>\n",
              "      <th>3</th>\n",
              "      <td>0</td>\n",
              "      <td>1467811184</td>\n",
              "      <td>Mon Apr 06 22:19:57 PDT 2009</td>\n",
              "      <td>NO_QUERY</td>\n",
              "      <td>ElleCTF</td>\n",
              "      <td>my whole body feels itchy and like its on fire</td>\n",
              "    </tr>\n",
              "    <tr>\n",
              "      <th>4</th>\n",
              "      <td>0</td>\n",
              "      <td>1467811193</td>\n",
              "      <td>Mon Apr 06 22:19:57 PDT 2009</td>\n",
              "      <td>NO_QUERY</td>\n",
              "      <td>Karoli</td>\n",
              "      <td>@nationwideclass no, it's not behaving at all....</td>\n",
              "    </tr>\n",
              "  </tbody>\n",
              "</table>\n",
              "</div>"
            ],
            "text/plain": [
              "   target  ...                                              tweet\n",
              "0       0  ...  @switchfoot http://twitpic.com/2y1zl - Awww, t...\n",
              "1       0  ...  is upset that he can't update his Facebook by ...\n",
              "2       0  ...  @Kenichan I dived many times for the ball. Man...\n",
              "3       0  ...    my whole body feels itchy and like its on fire \n",
              "4       0  ...  @nationwideclass no, it's not behaving at all....\n",
              "\n",
              "[5 rows x 6 columns]"
            ]
          },
          "metadata": {
            "tags": []
          },
          "execution_count": 4
        }
      ]
    },
    {
      "cell_type": "code",
      "metadata": {
        "id": "6nrxvQvz6mNd"
      },
      "source": [
        "tweets_df[\"target\"] = tweets_df[\"target\"].replace(4, 1)"
      ],
      "execution_count": null,
      "outputs": []
    },
    {
      "cell_type": "code",
      "metadata": {
        "id": "7usO3e19lcBD"
      },
      "source": [
        "train, test = train_test_split(tweets_df, test_size=0.1)"
      ],
      "execution_count": null,
      "outputs": []
    },
    {
      "cell_type": "code",
      "metadata": {
        "colab": {
          "base_uri": "https://localhost:8080/"
        },
        "id": "i3iPiHV2mYcW",
        "outputId": "1edc98e4-ffc5-47b0-eb60-c83e55ba03bf"
      },
      "source": [
        "train[\"target\"].value_counts()"
      ],
      "execution_count": null,
      "outputs": [
        {
          "output_type": "execute_result",
          "data": {
            "text/plain": [
              "1    720046\n",
              "0    719954\n",
              "Name: target, dtype: int64"
            ]
          },
          "metadata": {
            "tags": []
          },
          "execution_count": 7
        }
      ]
    },
    {
      "cell_type": "code",
      "metadata": {
        "id": "rk6KgubZma0x"
      },
      "source": [
        "train.to_csv(\"dataset/train.csv\", header=True)\n",
        "test.to_csv(\"dataset/test.csv\", header=True)"
      ],
      "execution_count": null,
      "outputs": []
    },
    {
      "cell_type": "markdown",
      "metadata": {
        "id": "J9Tg2SGRnNpH"
      },
      "source": [
        "## Making the dataset"
      ]
    },
    {
      "cell_type": "markdown",
      "metadata": {
        "id": "nasgg4hFVRi0"
      },
      "source": [
        "After splitting the data into train and test csv's, we need to make a dataset that is usable by PyTorch. The whole process is done in this section."
      ]
    },
    {
      "cell_type": "code",
      "metadata": {
        "colab": {
          "base_uri": "https://localhost:8080/"
        },
        "id": "GXXLeBm-nja2",
        "outputId": "57dbd7dd-6c99-41ac-d934-4dae86732dd0"
      },
      "source": [
        "!pip install -U torchtext==0.8.0"
      ],
      "execution_count": null,
      "outputs": [
        {
          "output_type": "stream",
          "text": [
            "Collecting torchtext==0.8.0\n",
            "\u001b[?25l  Downloading https://files.pythonhosted.org/packages/26/8a/e09b9b82d4dd676f17aa681003a7533765346744391966dec0d5dba03ee4/torchtext-0.8.0-cp37-cp37m-manylinux1_x86_64.whl (6.9MB)\n",
            "\u001b[K     |████████████████████████████████| 7.0MB 10.1MB/s \n",
            "\u001b[?25hRequirement already satisfied, skipping upgrade: numpy in /usr/local/lib/python3.7/dist-packages (from torchtext==0.8.0) (1.19.5)\n",
            "Requirement already satisfied, skipping upgrade: tqdm in /usr/local/lib/python3.7/dist-packages (from torchtext==0.8.0) (4.41.1)\n",
            "Requirement already satisfied, skipping upgrade: requests in /usr/local/lib/python3.7/dist-packages (from torchtext==0.8.0) (2.23.0)\n",
            "Requirement already satisfied, skipping upgrade: torch in /usr/local/lib/python3.7/dist-packages (from torchtext==0.8.0) (1.8.1+cu101)\n",
            "Requirement already satisfied, skipping upgrade: chardet<4,>=3.0.2 in /usr/local/lib/python3.7/dist-packages (from requests->torchtext==0.8.0) (3.0.4)\n",
            "Requirement already satisfied, skipping upgrade: certifi>=2017.4.17 in /usr/local/lib/python3.7/dist-packages (from requests->torchtext==0.8.0) (2020.12.5)\n",
            "Requirement already satisfied, skipping upgrade: idna<3,>=2.5 in /usr/local/lib/python3.7/dist-packages (from requests->torchtext==0.8.0) (2.10)\n",
            "Requirement already satisfied, skipping upgrade: urllib3!=1.25.0,!=1.25.1,<1.26,>=1.21.1 in /usr/local/lib/python3.7/dist-packages (from requests->torchtext==0.8.0) (1.24.3)\n",
            "Requirement already satisfied, skipping upgrade: typing-extensions in /usr/local/lib/python3.7/dist-packages (from torch->torchtext==0.8.0) (3.7.4.3)\n",
            "Installing collected packages: torchtext\n",
            "  Found existing installation: torchtext 0.9.1\n",
            "    Uninstalling torchtext-0.9.1:\n",
            "      Successfully uninstalled torchtext-0.9.1\n",
            "Successfully installed torchtext-0.8.0\n"
          ],
          "name": "stdout"
        }
      ]
    },
    {
      "cell_type": "markdown",
      "metadata": {
        "id": "ll1rJU6pVldf"
      },
      "source": [
        "We are using RegexpTokenizer here, which tokenizes based on an input regex patter. This is used to remove punctuations while tokenizing. We decided against the use of stopwords, since nltk's stopwords include words like \"not\", \"shouldn't\", etc, which are important in sentences where the negative sentiment isn't directly implied. "
      ]
    },
    {
      "cell_type": "code",
      "metadata": {
        "id": "vP8wz6IOm9zE"
      },
      "source": [
        "import torch\n",
        "from torchtext.data import Field, TabularDataset, BucketIterator\n",
        "\n",
        "import nltk\n",
        "from nltk import RegexpTokenizer"
      ],
      "execution_count": null,
      "outputs": []
    },
    {
      "cell_type": "code",
      "metadata": {
        "id": "HlQBys3XnVxO"
      },
      "source": [
        "device = torch.device(\"cuda\" if torch.cuda.is_available() else \"cpu\")"
      ],
      "execution_count": null,
      "outputs": []
    },
    {
      "cell_type": "code",
      "metadata": {
        "id": "z6HwOem7n-nA"
      },
      "source": [
        "def get_tokens(tweet):\n",
        "    # tokenize, and remove punctuations\n",
        "    tweet = tweet.lower()\n",
        "    tokenizer = RegexpTokenizer(r\"\\w+\")\n",
        "    tokens = tokenizer.tokenize(tweet)\n",
        "    return tokens"
      ],
      "execution_count": null,
      "outputs": []
    },
    {
      "cell_type": "markdown",
      "metadata": {
        "id": "hLOPVO0KXdze"
      },
      "source": [
        "We use torchtext's Fields to convert data into a dtype that can be understood by torchtext. According to torchtext's documentation:<br><br>\n",
        "*Field class models common text processing datatypes that can be represented by tensors. It holds a Vocab object that defines the set of possible values for elements of the field and their corresponding numerical representations. The Field object also holds other parameters relating to how a datatype should be numericalized, such as a tokenization method and the kind of Tensor that should be produced.*\n",
        "\n",
        "We use our get_tokens() function defined earlier for preprocessing. Also, we convert all of our text to lowercase, since all GloVe embeddings are lowercase."
      ]
    },
    {
      "cell_type": "code",
      "metadata": {
        "colab": {
          "base_uri": "https://localhost:8080/"
        },
        "id": "QjspO7vRpVQN",
        "outputId": "b88b7360-4f3a-4f03-fca3-df57afdf66c7"
      },
      "source": [
        "tweet = Field(sequential=True, use_vocab=True, tokenize=get_tokens, lower=True)\n",
        "target = Field(sequential=False, use_vocab=False)"
      ],
      "execution_count": null,
      "outputs": [
        {
          "output_type": "stream",
          "text": [
            "/usr/local/lib/python3.7/dist-packages/torchtext/data/field.py:150: UserWarning: Field class will be retired soon and moved to torchtext.legacy. Please see the most recent release notes for further information.\n",
            "  warnings.warn('{} class will be retired soon and moved to torchtext.legacy. Please see the most recent release notes for further information.'.format(self.__class__.__name__), UserWarning)\n"
          ],
          "name": "stderr"
        }
      ]
    },
    {
      "cell_type": "markdown",
      "metadata": {
        "id": "XtXkMyQ0at3p"
      },
      "source": [
        "After defining the fields we care about, we use a TabularDataset to convert our csv files into a Dataset object, which can be later used for training.<br>\n",
        "\n",
        "The fields dictionary provides a mapping which helps our tabular dataset understand which column in the csv corresponds to which field. The mapping is:\n",
        "\"column name\": (\"name of the variable for that field\", field name).<br>\n",
        "\n",
        "For example, \"tweet\": (\"t\", tweet) implies that for a column named \"tweet\" in our input csv files, map it to the tweet Field. Also, for any batch made from this dataset, we can access that batch's tweet as\n",
        "tweet = batch.t "
      ]
    },
    {
      "cell_type": "code",
      "metadata": {
        "id": "TsWbD3jKrEkn"
      },
      "source": [
        "fields = {\"tweet\": (\"tweet\", tweet), \"target\": (\"target\", target)}"
      ],
      "execution_count": null,
      "outputs": []
    },
    {
      "cell_type": "code",
      "metadata": {
        "colab": {
          "base_uri": "https://localhost:8080/"
        },
        "id": "guQDnYidrcqp",
        "outputId": "fb23fc5a-a9c0-4799-bbca-7ebe169b0466"
      },
      "source": [
        "train_data, test_data = TabularDataset.splits(\n",
        "                        path = \"dataset\",\n",
        "                        train = \"train.csv\",\n",
        "                        test = \"test.csv\",\n",
        "                        format = \"csv\",\n",
        "                        fields = fields\n",
        "                        )"
      ],
      "execution_count": null,
      "outputs": [
        {
          "output_type": "stream",
          "text": [
            "/usr/local/lib/python3.7/dist-packages/torchtext/data/example.py:68: UserWarning: Example class will be retired soon and moved to torchtext.legacy. Please see the most recent release notes for further information.\n",
            "  warnings.warn('Example class will be retired soon and moved to torchtext.legacy. Please see the most recent release notes for further information.', UserWarning)\n",
            "/usr/local/lib/python3.7/dist-packages/torchtext/data/example.py:52: UserWarning: Example class will be retired soon and moved to torchtext.legacy. Please see the most recent release notes for further information.\n",
            "  warnings.warn('Example class will be retired soon and moved to torchtext.legacy. Please see the most recent release notes for further information.', UserWarning)\n"
          ],
          "name": "stderr"
        }
      ]
    },
    {
      "cell_type": "markdown",
      "metadata": {
        "id": "dCDH50vxcRoN"
      },
      "source": [
        "Then, we build our field's vocabulary according to GloVe embeddings. The embeddings we are using is 'glove.twitter.27B.50d'. The embeddings are trained on 27 billion tokens, and have a dimension of 50. <br>\n",
        "\n",
        "Also, we set min_freq to 10, which means that the minimum frequency for a word to appear in our vocabulary is 10. This is done because we get a lot of stray unique url's that appear only a couple of times in our post-processed dataset, and this helps eliminate those from our dataset."
      ]
    },
    {
      "cell_type": "code",
      "metadata": {
        "id": "pgWpMu2ksBna"
      },
      "source": [
        "tweet.build_vocab(train_data, \n",
        "                  max_size=50000, \n",
        "                  min_freq=10, \n",
        "                  vectors='glove.twitter.27B.50d')"
      ],
      "execution_count": null,
      "outputs": []
    },
    {
      "cell_type": "markdown",
      "metadata": {
        "id": "GQF5kZHMcsJL"
      },
      "source": [
        "BucketIterator helps us split our data into batches, where each input sentence is padded to match the length of the longest string. The batches generated can then be plugged directly onto our Neural Network model for further training."
      ]
    },
    {
      "cell_type": "code",
      "metadata": {
        "colab": {
          "base_uri": "https://localhost:8080/"
        },
        "id": "T6mrObPJuJs-",
        "outputId": "9dfe34c2-b0ff-4092-89f9-17f39fb583ba"
      },
      "source": [
        "train_iter, test_iter = BucketIterator.splits(\n",
        "                            (train_data, test_data),\n",
        "                            batch_size = 64,\n",
        "                            sort_key = lambda x : len(x.tweet),\n",
        "                            sort_within_batch = False,\n",
        "                            device = device)"
      ],
      "execution_count": null,
      "outputs": [
        {
          "output_type": "stream",
          "text": [
            "/usr/local/lib/python3.7/dist-packages/torchtext/data/iterator.py:48: UserWarning: BucketIterator class will be retired soon and moved to torchtext.legacy. Please see the most recent release notes for further information.\n",
            "  warnings.warn('{} class will be retired soon and moved to torchtext.legacy. Please see the most recent release notes for further information.'.format(self.__class__.__name__), UserWarning)\n"
          ],
          "name": "stderr"
        }
      ]
    },
    {
      "cell_type": "markdown",
      "metadata": {
        "id": "X7ihMSlYxTT_"
      },
      "source": [
        "## Defining a NN Architecture"
      ]
    },
    {
      "cell_type": "code",
      "metadata": {
        "id": "nQ0zAwD3wBfz"
      },
      "source": [
        "import numpy as np\n",
        "import matplotlib.pyplot as plt\n",
        "\n",
        "import torch.nn as nn\n",
        "import torch.optim as optim"
      ],
      "execution_count": null,
      "outputs": []
    },
    {
      "cell_type": "markdown",
      "metadata": {
        "id": "JDOhaQuNdc2v"
      },
      "source": [
        "Our Neural Network architecture consists of an embedding layer, followed by a LSTM, followed by 2 Dense Layers.\n",
        "\n",
        "We plug in the padding token used in our vocab into the padding_idx parameter of Embedding. This ensures that while training the Embedding layer, the embeddings of padding token stay the same.\n",
        "\n",
        "We've also added a Dropout of 0.5 to our LSTM layers, in order to make the whole architecture more robust to unseen data.\n",
        "\n",
        "We are not using a sigmoid in the final layer, since torch's BCEWithLogitsLoss applies a sigmoid to the final output of our layer, and makes the whole model more numerically stable."
      ]
    },
    {
      "cell_type": "code",
      "metadata": {
        "id": "CFy_ISWX0Q9n"
      },
      "source": [
        "class SentimentPredictor(nn.Module):\n",
        "    def __init__(self, input_size, embedding_size, hidden_size, num_lstm_layers, pad_token):\n",
        "        super(SentimentPredictor, self).__init__()\n",
        "        \n",
        "        self.embedding = nn.Embedding(num_embeddings=input_size, embedding_dim=embedding_size, padding_idx=pad_token)\n",
        "        self.lstm = nn.LSTM(embedding_size, hidden_size, num_lstm_layers, dropout=0.5)\n",
        "        self.dense1 = nn.Linear(hidden_size, 64)\n",
        "        self.dense2 = nn.Linear(64, 1)\n",
        "\n",
        "    def forward(self, x):\n",
        "        x = self.embedding(x)\n",
        "        x, _ = self.lstm(x)\n",
        "        x = torch.relu(self.dense1(x[-1, :, :])) # get hidden size first\n",
        "        x = self.dense2(x)\n",
        "\n",
        "        return x"
      ],
      "execution_count": null,
      "outputs": []
    },
    {
      "cell_type": "code",
      "metadata": {
        "id": "HqmY7cIw1y0z",
        "colab": {
          "base_uri": "https://localhost:8080/"
        },
        "outputId": "fa7332a2-a4db-4fc5-a57a-6ee07c3045bc"
      },
      "source": [
        "# Define Hyperparameters\n",
        "input_size = len(tweet.vocab)\n",
        "embedding_size = 50 # gloVe specification\n",
        "hidden_size = 512\n",
        "num_layers = 1\n",
        "pad_token = tweet.vocab.stoi[tweet.pad_token]\n",
        "\n",
        "# Instantiate model object\n",
        "model = SentimentPredictor(input_size, embedding_size, hidden_size, num_layers, pad_token).to(device)"
      ],
      "execution_count": null,
      "outputs": [
        {
          "output_type": "stream",
          "text": [
            "/usr/local/lib/python3.7/dist-packages/torch/nn/modules/rnn.py:63: UserWarning: dropout option adds dropout after all but last recurrent layer, so non-zero dropout expects num_layers greater than 1, but got dropout=0.5 and num_layers=1\n",
            "  \"num_layers={}\".format(dropout, num_layers))\n"
          ],
          "name": "stderr"
        }
      ]
    },
    {
      "cell_type": "markdown",
      "metadata": {
        "id": "KEyPJ2XNfZrO"
      },
      "source": [
        "After initializing our model, we load the weights of GloVe embeddings onto our model's embedding layers."
      ]
    },
    {
      "cell_type": "code",
      "metadata": {
        "colab": {
          "base_uri": "https://localhost:8080/"
        },
        "id": "E2IN5Q0m2hfs",
        "outputId": "20a60cb2-08d2-4b94-f8f5-9640387d851f"
      },
      "source": [
        "# Load gloVe weights onto our embedding layer's weights\n",
        "glove_embeddings = tweet.vocab.vectors\n",
        "model.embedding.weight.data.copy_(glove_embeddings)"
      ],
      "execution_count": null,
      "outputs": [
        {
          "output_type": "execute_result",
          "data": {
            "text/plain": [
              "tensor([[ 0.0000,  0.0000,  0.0000,  ...,  0.0000,  0.0000,  0.0000],\n",
              "        [ 0.0000,  0.0000,  0.0000,  ...,  0.0000,  0.0000,  0.0000],\n",
              "        [-0.0431,  0.5039,  0.2709,  ..., -0.2238, -0.6603, -0.7065],\n",
              "        ...,\n",
              "        [ 0.0000,  0.0000,  0.0000,  ...,  0.0000,  0.0000,  0.0000],\n",
              "        [ 0.0000,  0.0000,  0.0000,  ...,  0.0000,  0.0000,  0.0000],\n",
              "        [ 0.7224, -0.3856, -0.5189,  ...,  0.2659,  0.0056, -0.6017]],\n",
              "       device='cuda:0')"
            ]
          },
          "metadata": {
            "tags": []
          },
          "execution_count": 31
        }
      ]
    },
    {
      "cell_type": "markdown",
      "metadata": {
        "id": "x0Tb0-B1fnWW"
      },
      "source": [
        "We are using BCEWithLogitsLoss as our loss criterion. This applies a sigmoid to the model's output, which will then be used to find out the Binary Cross-Entropy loss.\n",
        "\n",
        "For our optimizer, we are using Adam, with default parameters, i.e., lr = 0.001, beta1 = 0.9, beta2 = 0.999"
      ]
    },
    {
      "cell_type": "code",
      "metadata": {
        "id": "ap03k1Yy3jpy"
      },
      "source": [
        "criterion = nn.BCEWithLogitsLoss()\n",
        "optimizer = optim.Adam(model.parameters())"
      ],
      "execution_count": null,
      "outputs": []
    },
    {
      "cell_type": "markdown",
      "metadata": {
        "id": "468BN0uYgJPN"
      },
      "source": [
        "We also define a function to find out the accuracy of our model, given model's predictions and the labels."
      ]
    },
    {
      "cell_type": "code",
      "metadata": {
        "id": "sC7APOtU4eHQ"
      },
      "source": [
        "def binary_accuracy(preds, y):\n",
        "    #round predictions to the closest integer\n",
        "    rounded_preds = torch.round(torch.sigmoid(preds))\n",
        "    correct = (rounded_preds == y).float() #convert into float for division \n",
        "    acc = correct.sum() / len(correct)\n",
        "    return acc"
      ],
      "execution_count": null,
      "outputs": []
    },
    {
      "cell_type": "code",
      "metadata": {
        "colab": {
          "base_uri": "https://localhost:8080/"
        },
        "id": "qOyhxTxt4jii",
        "outputId": "56a25c61-3126-412b-df46-c69ffc39393a"
      },
      "source": [
        "# Training loop\n",
        "from tqdm import tqdm\n",
        "fin_ev_loss = []\n",
        "fin_ev_acc = []\n",
        "fin_tr_loss = []\n",
        "fin_tr_acc = []\n",
        "num_epochs = 20\n",
        "\n",
        "for epoch in range(num_epochs):\n",
        "    epoch_loss = []\n",
        "    acc = []\n",
        "    eval_loss = []\n",
        "    eval_acc = []\n",
        "\n",
        "    for batch in train_iter:\n",
        "        model.train()\n",
        "        data = batch.tweet.to(device)\n",
        "        targets = batch.target.to(device)\n",
        "\n",
        "        # forward\n",
        "        scores = model(data)\n",
        "        loss = criterion(scores.squeeze(1), targets.type_as(scores))\n",
        "        epoch_loss.append(loss.item())\n",
        "        acc.append(binary_accuracy(scores.squeeze(1), targets.type_as(scores)).item())\n",
        "        # backward\n",
        "        optimizer.zero_grad()\n",
        "        loss.backward()\n",
        "\n",
        "        # gradient descent\n",
        "        optimizer.step()\n",
        "        \n",
        "    fin_tr_loss.append(np.mean(epoch_loss))\n",
        "    fin_tr_acc.append(np.mean(acc))\n",
        "\n",
        "    with torch.no_grad():\n",
        "        for batch in test_iter:\n",
        "            model.eval()\n",
        "            data = batch.tweet.to(device)\n",
        "            targets = batch.target.to(device)\n",
        "\n",
        "            scores = model(data)\n",
        "            loss = criterion(scores.squeeze(1), targets.type_as(scores))\n",
        "            eval_loss.append(loss.item())\n",
        "            eval_acc.append(binary_accuracy(scores.squeeze(1), targets.type_as(scores)).item())\n",
        "\n",
        "        fin_ev_loss.append(np.mean(eval_loss))\n",
        "        fin_ev_acc.append(np.mean(eval_acc))\n",
        "\n",
        "    print(f\"Epoch {epoch+1}: {np.mean(acc):.4f} Accuracy, {np.mean(epoch_loss):.4f} Epoch Loss \\| Evaluation: Accuracy = {np.mean(eval_acc):.4f}, Loss = {np.mean(eval_loss):.4f}\")"
      ],
      "execution_count": null,
      "outputs": [
        {
          "output_type": "stream",
          "text": [
            "/usr/local/lib/python3.7/dist-packages/torchtext/data/batch.py:23: UserWarning: Batch class will be retired soon and moved to torchtext.legacy. Please see the most recent release notes for further information.\n",
            "  warnings.warn('{} class will be retired soon and moved to torchtext.legacy. Please see the most recent release notes for further information.'.format(self.__class__.__name__), UserWarning)\n"
          ],
          "name": "stderr"
        },
        {
          "output_type": "stream",
          "text": [
            "Epoch 1: 0.8068 Accuracy, 0.4095 Epoch Loss \\| Evaluation: Accuracy = 0.8288, Loss = 0.3875\n",
            "Epoch 2: 0.8445 Accuracy, 0.3505 Epoch Loss \\| Evaluation: Accuracy = 0.8365, Loss = 0.3685\n",
            "Epoch 3: 0.8586 Accuracy, 0.3237 Epoch Loss \\| Evaluation: Accuracy = 0.8363, Loss = 0.3715\n",
            "Epoch 4: 0.8720 Accuracy, 0.2974 Epoch Loss \\| Evaluation: Accuracy = 0.8321, Loss = 0.3826\n",
            "Epoch 5: 0.8862 Accuracy, 0.2693 Epoch Loss \\| Evaluation: Accuracy = 0.8305, Loss = 0.4055\n",
            "Epoch 6: 0.8990 Accuracy, 0.2430 Epoch Loss \\| Evaluation: Accuracy = 0.8255, Loss = 0.4228\n",
            "Epoch 7: 0.9090 Accuracy, 0.2214 Epoch Loss \\| Evaluation: Accuracy = 0.8221, Loss = 0.4323\n",
            "Epoch 8: 0.9177 Accuracy, 0.2032 Epoch Loss \\| Evaluation: Accuracy = 0.8185, Loss = 0.4472\n",
            "Epoch 9: 0.9235 Accuracy, 0.1893 Epoch Loss \\| Evaluation: Accuracy = 0.8189, Loss = 0.4658\n",
            "Epoch 10: 0.9286 Accuracy, 0.1779 Epoch Loss \\| Evaluation: Accuracy = 0.8172, Loss = 0.4855\n",
            "Epoch 11: 0.9322 Accuracy, 0.1699 Epoch Loss \\| Evaluation: Accuracy = 0.8155, Loss = 0.5305\n",
            "Epoch 12: 0.9349 Accuracy, 0.1630 Epoch Loss \\| Evaluation: Accuracy = 0.8153, Loss = 0.5374\n",
            "Epoch 13: 0.9373 Accuracy, 0.1576 Epoch Loss \\| Evaluation: Accuracy = 0.8154, Loss = 0.5902\n",
            "Epoch 14: 0.9392 Accuracy, 0.1527 Epoch Loss \\| Evaluation: Accuracy = 0.8156, Loss = 0.5940\n",
            "Epoch 15: 0.9409 Accuracy, 0.1490 Epoch Loss \\| Evaluation: Accuracy = 0.8136, Loss = 0.6030\n",
            "Epoch 16: 0.9421 Accuracy, 0.1458 Epoch Loss \\| Evaluation: Accuracy = 0.8118, Loss = 0.5892\n",
            "Epoch 17: 0.9430 Accuracy, 0.1436 Epoch Loss \\| Evaluation: Accuracy = 0.8135, Loss = 0.5808\n",
            "Epoch 18: 0.9441 Accuracy, 0.1409 Epoch Loss \\| Evaluation: Accuracy = 0.8127, Loss = 0.6148\n",
            "Epoch 19: 0.9453 Accuracy, 0.1381 Epoch Loss \\| Evaluation: Accuracy = 0.8064, Loss = 0.5975\n",
            "Epoch 20: 0.9459 Accuracy, 0.1364 Epoch Loss \\| Evaluation: Accuracy = 0.8101, Loss = 0.6190\n"
          ],
          "name": "stdout"
        }
      ]
    },
    {
      "cell_type": "code",
      "metadata": {
        "colab": {
          "base_uri": "https://localhost:8080/",
          "height": 298
        },
        "id": "VV93NdZSp-0p",
        "outputId": "5a75d9ab-81da-4fa6-fec1-b249c679e045"
      },
      "source": [
        "# Plotting acc\n",
        "\n",
        "plt.style.use(\"ggplot\")\n",
        "\n",
        "fig, ax = plt.subplots()\n",
        "\n",
        "ax.plot(fin_tr_acc, label=\"Training Accuracy\")\n",
        "ax.plot(fin_ev_acc, label=\"Evaluation Accuracy\") \n",
        "ax.set_xlabel(\"Epoch\")\n",
        "ax.set_ylabel(\"Accuracy\")\n",
        "ax.set_title(\"Accuracy over Epochs\")\n",
        "ax.set_xticks(np.arange(0, 25, 5))\n",
        "plt.legend()\n",
        "plt.show()"
      ],
      "execution_count": null,
      "outputs": [
        {
          "output_type": "display_data",
          "data": {
            "image/png": "[encoded data removed]",
            "text/plain": [
              "<Figure size 432x288 with 1 Axes>"
            ]
          },
          "metadata": {
            "tags": []
          }
        }
      ]
    },
    {
      "cell_type": "code",
      "metadata": {
        "colab": {
          "base_uri": "https://localhost:8080/",
          "height": 298
        },
        "id": "y_hwJTmOGx47",
        "outputId": "77498c6e-45b3-452a-ba4d-6a3483d494a1"
      },
      "source": [
        "# Plotting loss\n",
        "\n",
        "fig, ax = plt.subplots()\n",
        "\n",
        "ax.plot(fin_tr_loss, label=\"Training Loss\")\n",
        "ax.plot(fin_ev_loss, label=\"Evaluation Loss\") \n",
        "ax.set_xlabel(\"Epoch\")\n",
        "ax.set_ylabel(\"Loss\")\n",
        "ax.set_title(\"Loss over Epochs\")\n",
        "ax.set_xticks(np.arange(0, 25, 5))\n",
        "plt.legend()\n",
        "plt.show()"
      ],
      "execution_count": null,
      "outputs": [
        {
          "output_type": "display_data",
          "data": {
            "image/png": "[encoded data removed]",
            "text/plain": [
              "<Figure size 432x288 with 1 Axes>"
            ]
          },
          "metadata": {
            "tags": []
          }
        }
      ]
    },
    {
      "cell_type": "markdown",
      "metadata": {
        "id": "Xnvp1PQZgzoe"
      },
      "source": [
        "We can get the sentiment of a user input string using the get_sentiment function. In this function:\n",
        "<ul>\n",
        "<li>The input string is first converted into tokens, and numericalized according to our vocabulary dictionary (stoi).</li>\n",
        "<li>These tokens are then converted into a Tensor.</li>\n",
        "<li>After this, the tokens are finally transposed, in order to match the input requirement of our model.</li>\n",
        "\n",
        "Finally, these transposed tokens are then used for getting a prediction.\n",
        "\n",
        "If the prediction is greater than 0.5, we say that the overall sentiment associated with the input tweet is Positive, else Negative."
      ]
    },
    {
      "cell_type": "code",
      "metadata": {
        "id": "dPq35Vkft7vO"
      },
      "source": [
        "def get_sentiment(tweet_str, model, stoi):\n",
        "    model.eval()\n",
        "    tokens = get_tokens(tweet_str)\n",
        "    tweet_tokens = [stoi.get(token, 0) for token in tokens]\n",
        "    tweet_tokens = torch.Tensor(tweet_tokens).long().to(device)\n",
        "    tweet_tokens = torch.transpose(tweet_tokens.unsqueeze(0), 0, 1)\n",
        "\n",
        "    output = model(tweet_tokens)\n",
        "    output = torch.sigmoid(output).item()\n",
        "\n",
        "    return f\"Score: {output:.2f}, Positive\" if output > 0.5 else f\"Score: {output:.2f}, Negative\""
      ],
      "execution_count": null,
      "outputs": []
    },
    {
      "cell_type": "markdown",
      "metadata": {
        "id": "mYwFF_NCKwUU"
      },
      "source": [
        "## Saving Model"
      ]
    },
    {
      "cell_type": "markdown",
      "metadata": {
        "id": "nxuDKK1ShjDV"
      },
      "source": [
        "Here, we save the model for further inference. The \"sentiment.pth\" file saved can be loaded later to get a checkpoint. The loaded item is a dictionary, with the following keys:\n",
        "<ul>\n",
        "<li>model_params: State Dict of our trained model. This is a dictionary that stores the weights and other trained parameters. We can copy these weights onto a newly instantiated model (with the same architecture).</li>\n",
        "<li>stoi: Our vocabulary's stoi dictionary. This dictionary contains pairs of (string, integer) mappings.</li>\n",
        "<li>loss: A list containing the loss metrics of our trained model.</li>\n",
        "<li>accuracy: A list containing the accuracy metrics of our trained model.</li>"
      ]
    },
    {
      "cell_type": "code",
      "metadata": {
        "id": "ZFQP8XIunRcD"
      },
      "source": [
        "# Saving all the hyperparameters into a dict\n",
        "\n",
        "hparams = dict()\n",
        "hparams[\"input_size\"] = len(tweet.vocab)\n",
        "hparams[\"embedding_size\"] = 50 # gloVe specification\n",
        "hparams[\"hidden_size\"] = 512\n",
        "hparams[\"num_layers\"] = 2\n",
        "hparams[\"pad_token\"] = tweet.vocab.stoi[tweet.pad_token]"
      ],
      "execution_count": null,
      "outputs": []
    },
    {
      "cell_type": "code",
      "metadata": {
        "id": "SA5h7rCAwTrf"
      },
      "source": [
        "torch.save({\"model_params\":model.state_dict(), \"stoi\":dict(tweet.vocab.stoi), \"loss\":fin_loss, \"accuracy\":fin_acc, \"hparams\":hparams}, \"sentiment.pth\")"
      ],
      "execution_count": null,
      "outputs": []
    },
    {
      "cell_type": "code",
      "metadata": {
        "id": "sHflSAk_MRm5"
      },
      "source": [
        "# Add the param map_location=torch.device('cpu') if you're running this on a cpu\n",
        "checkpoint = torch.load(\"sentiment.pth\")"
      ],
      "execution_count": null,
      "outputs": []
    },
    {
      "cell_type": "code",
      "metadata": {
        "id": "wZB769BgMbVi"
      },
      "source": [
        "hparams = checkpoint[\"hparams\"]\n",
        "input_size = hparams[\"input_size\"]\n",
        "embedding_size = hparams[\"embedding_size\"]\n",
        "hidden_size = hparams[\"hidden_size\"]\n",
        "num_layers = hparams[\"num_layers\"]\n",
        "pad_token = hparams[\"pad_token\"]\n",
        "\n",
        "net = SentimentPredictor(input_size, embedding_size, hidden_size, num_layers, pad_token).to(device)"
      ],
      "execution_count": null,
      "outputs": []
    },
    {
      "cell_type": "code",
      "metadata": {
        "colab": {
          "base_uri": "https://localhost:8080/"
        },
        "id": "4mYeGMTyMrN5",
        "outputId": "ae5b0eba-926d-43b0-a06f-fbb6daa1e3c3"
      },
      "source": [
        "net.load_state_dict(checkpoint[\"model_params\"])"
      ],
      "execution_count": null,
      "outputs": [
        {
          "output_type": "execute_result",
          "data": {
            "text/plain": [
              "<All keys matched successfully>"
            ]
          },
          "metadata": {
            "tags": []
          },
          "execution_count": 83
        }
      ]
    },
    {
      "cell_type": "code",
      "metadata": {
        "colab": {
          "base_uri": "https://localhost:8080/",
          "height": 34
        },
        "id": "j5uR5OliMxhI",
        "outputId": "f77efee3-0a55-4500-d675-152c8f1338f5"
      },
      "source": [
        "get_sentiment(\"this is a fun movie to watch\", net, checkpoint[\"stoi\"])"
      ],
      "execution_count": null,
      "outputs": [
        {
          "output_type": "execute_result",
          "data": {
            "application/vnd.google.colaboratory.intrinsic+json": {
              "type": "string"
            },
            "text/plain": [
              "'Score: 0.82, Positive'"
            ]
          },
          "metadata": {
            "tags": []
          },
          "execution_count": 84
        }
      ]
    },
    {
      "cell_type": "code",
      "metadata": {
        "id": "FR66PPg-Nb6F",
        "colab": {
          "base_uri": "https://localhost:8080/",
          "height": 34
        },
        "outputId": "d04d9594-af75-4bef-bc5b-1b2142132fb9"
      },
      "source": [
        "get_sentiment(\"This was not a good movie\", net, checkpoint[\"stoi\"])"
      ],
      "execution_count": null,
      "outputs": [
        {
          "output_type": "execute_result",
          "data": {
            "application/vnd.google.colaboratory.intrinsic+json": {
              "type": "string"
            },
            "text/plain": [
              "'Score: 0.09, Negative'"
            ]
          },
          "metadata": {
            "tags": []
          },
          "execution_count": 89
        }
      ]
    },
    {
      "cell_type": "code",
      "metadata": {
        "id": "QXA56hyPpkqm"
      },
      "source": [
        ""
      ],
      "execution_count": null,
      "outputs": []
    }
  ]
}